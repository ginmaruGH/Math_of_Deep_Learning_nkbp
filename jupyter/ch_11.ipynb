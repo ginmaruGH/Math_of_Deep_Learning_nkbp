{
 "cells": [
  {
   "cell_type": "markdown",
   "metadata": {},
   "source": [
    "# Chap.11 実用的なディープラーニングを目指して"
   ]
  },
  {
   "cell_type": "markdown",
   "metadata": {},
   "source": [
    "注意 Mac固有の問題回避のため、下記のセルを必ず実行してください"
   ]
  },
  {
   "cell_type": "code",
   "execution_count": null,
   "metadata": {},
   "outputs": [],
   "source": [
    "# Macの問題回避\n",
    "import os\n",
    "import platform\n",
    "if platform.system() == 'Darwin':\n",
    "    os.environ['KMP_DUPLICATE_LIB_OK'] = 'True'"
   ]
  },
  {
   "cell_type": "code",
   "execution_count": 1,
   "metadata": {},
   "outputs": [],
   "source": [
    "# 必要ライブラリの宣言\n",
    "import numpy as np\n",
    "import matplotlib.pyplot as plt\n",
    "from matplotlib import rcParams\n",
    "import warnings\n",
    "\n",
    "warnings.filterwarnings('ignore')\n",
    "rcParams['font.family'] = 'IPAexgothic'\n",
    "# plt.style.use('ggplot')\n",
    "plt.style.use('seaborn-darkgrid')\n",
    "%matplotlib inline"
   ]
  },
  {
   "cell_type": "markdown",
   "metadata": {},
   "source": [
    "## 11.1 フレームワークの利用\n",
    "\n",
    "KerasによるNeural Network"
   ]
  },
  {
   "cell_type": "code",
   "execution_count": 4,
   "metadata": {},
   "outputs": [
    {
     "name": "stdout",
     "output_type": "stream",
     "text": [
      "Downloading data from https://storage.googleapis.com/tensorflow/tf-keras-datasets/mnist.npz\n",
      "11490434/11490434 [==============================] - 1s 0us/step\n"
     ]
    }
   ],
   "source": [
    "# データ準備\n",
    "\n",
    "# 変数定義\n",
    "\n",
    "# D: 入力ノード数\n",
    "from keras.utils import np_utils\n",
    "from keras.datasets import mnist\n",
    "D = 784\n",
    "\n",
    "# H: 隠れ層のノード数\n",
    "H = 128\n",
    "\n",
    "# 分類クラス数\n",
    "num_classes = 10\n",
    "\n",
    "# Kerasの関数でデータの読み込み\n",
    "(x_train_org, y_train), (x_test_org, y_test) \\\n",
    "    = mnist.load_data()\n",
    "\n",
    "# 入力データの加工 (次元を1次元に)\n",
    "x_train = x_train_org.reshape(-1, D) / 255.0\n",
    "x_test = x_test_org.reshape((-1, D)) / 255.0\n",
    "\n",
    "# 正解データの加工 (One Hot Vectorに)\n",
    "y_train_ohe =\\\n",
    "    np_utils.to_categorical(y_train, num_classes)\n",
    "y_test_ohe =\\\n",
    "    np_utils.to_categorical(y_test, num_classes)\n"
   ]
  },
  {
   "cell_type": "code",
   "execution_count": 5,
   "metadata": {},
   "outputs": [
    {
     "name": "stderr",
     "output_type": "stream",
     "text": [
      "2022-06-05 23:01:38.173575: I tensorflow/core/platform/cpu_feature_guard.cc:193] This TensorFlow binary is optimized with oneAPI Deep Neural Network Library (oneDNN) to use the following CPU instructions in performance-critical operations:  AVX2 FMA\n",
      "To enable them in other operations, rebuild TensorFlow with the appropriate compiler flags.\n"
     ]
    }
   ],
   "source": [
    "# モデルの定義\n",
    "\n",
    "# 必要ライブラリのロード\n",
    "from keras.models import Sequential\n",
    "from keras.layers import Dense\n",
    "\n",
    "# Sequentialモデルの定義\n",
    "model = Sequential()\n",
    "\n",
    "# 隠れ層1の定義\n",
    "model.add(Dense(H, activation='relu', input_shape=(D,)))\n",
    "\n",
    "# 隠れ層2の定義\n",
    "model.add(Dense(H, activation='relu'))\n",
    "\n",
    "# 出力層\n",
    "model.add(Dense(num_classes, activation='softmax'))\n",
    "\n",
    "# モデルのコンパイル\n",
    "model.compile(loss='categorical_crossentropy',\n",
    "              optimizer='sgd',\n",
    "              metrics=['accuracy'])"
   ]
  },
  {
   "cell_type": "code",
   "execution_count": 6,
   "metadata": {},
   "outputs": [
    {
     "name": "stdout",
     "output_type": "stream",
     "text": [
      "Epoch 1/50\n",
      "118/118 [==============================] - 1s 9ms/step - loss: 1.9886 - accuracy: 0.4450 - val_loss: 1.6257 - val_accuracy: 0.6637\n",
      "Epoch 2/50\n",
      "118/118 [==============================] - 1s 5ms/step - loss: 1.3099 - accuracy: 0.7307 - val_loss: 1.0131 - val_accuracy: 0.7861\n",
      "Epoch 3/50\n",
      "118/118 [==============================] - 1s 7ms/step - loss: 0.8735 - accuracy: 0.8041 - val_loss: 0.7274 - val_accuracy: 0.8311\n",
      "Epoch 4/50\n",
      "118/118 [==============================] - 1s 6ms/step - loss: 0.6746 - accuracy: 0.8368 - val_loss: 0.5901 - val_accuracy: 0.8558\n",
      "Epoch 5/50\n",
      "118/118 [==============================] - 1s 7ms/step - loss: 0.5705 - accuracy: 0.8561 - val_loss: 0.5120 - val_accuracy: 0.8713\n",
      "Epoch 6/50\n",
      "118/118 [==============================] - 1s 6ms/step - loss: 0.5072 - accuracy: 0.8679 - val_loss: 0.4631 - val_accuracy: 0.8800\n",
      "Epoch 7/50\n",
      "118/118 [==============================] - 1s 6ms/step - loss: 0.4646 - accuracy: 0.8758 - val_loss: 0.4275 - val_accuracy: 0.8869\n",
      "Epoch 8/50\n",
      "118/118 [==============================] - 1s 7ms/step - loss: 0.4340 - accuracy: 0.8824 - val_loss: 0.4018 - val_accuracy: 0.8892\n",
      "Epoch 9/50\n",
      "118/118 [==============================] - 1s 7ms/step - loss: 0.4107 - accuracy: 0.8877 - val_loss: 0.3815 - val_accuracy: 0.8946\n",
      "Epoch 10/50\n",
      "118/118 [==============================] - 1s 6ms/step - loss: 0.3922 - accuracy: 0.8914 - val_loss: 0.3653 - val_accuracy: 0.8991\n",
      "Epoch 11/50\n",
      "118/118 [==============================] - 1s 6ms/step - loss: 0.3772 - accuracy: 0.8946 - val_loss: 0.3533 - val_accuracy: 0.9022\n",
      "Epoch 12/50\n",
      "118/118 [==============================] - 1s 7ms/step - loss: 0.3644 - accuracy: 0.8976 - val_loss: 0.3408 - val_accuracy: 0.9052\n",
      "Epoch 13/50\n",
      "118/118 [==============================] - 1s 7ms/step - loss: 0.3535 - accuracy: 0.9008 - val_loss: 0.3312 - val_accuracy: 0.9074\n",
      "Epoch 14/50\n",
      "118/118 [==============================] - 1s 7ms/step - loss: 0.3438 - accuracy: 0.9025 - val_loss: 0.3228 - val_accuracy: 0.9091\n",
      "Epoch 15/50\n",
      "118/118 [==============================] - 1s 6ms/step - loss: 0.3353 - accuracy: 0.9049 - val_loss: 0.3149 - val_accuracy: 0.9110\n",
      "Epoch 16/50\n",
      "118/118 [==============================] - 1s 7ms/step - loss: 0.3278 - accuracy: 0.9070 - val_loss: 0.3079 - val_accuracy: 0.9138\n",
      "Epoch 17/50\n",
      "118/118 [==============================] - 1s 6ms/step - loss: 0.3207 - accuracy: 0.9085 - val_loss: 0.3024 - val_accuracy: 0.9157\n",
      "Epoch 18/50\n",
      "118/118 [==============================] - 1s 7ms/step - loss: 0.3143 - accuracy: 0.9101 - val_loss: 0.2957 - val_accuracy: 0.9167\n",
      "Epoch 19/50\n",
      "118/118 [==============================] - 1s 6ms/step - loss: 0.3083 - accuracy: 0.9119 - val_loss: 0.2913 - val_accuracy: 0.9168\n",
      "Epoch 20/50\n",
      "118/118 [==============================] - 1s 8ms/step - loss: 0.3027 - accuracy: 0.9136 - val_loss: 0.2861 - val_accuracy: 0.9187\n",
      "Epoch 21/50\n",
      "118/118 [==============================] - 1s 6ms/step - loss: 0.2975 - accuracy: 0.9149 - val_loss: 0.2815 - val_accuracy: 0.9214\n",
      "Epoch 22/50\n",
      "118/118 [==============================] - 1s 7ms/step - loss: 0.2926 - accuracy: 0.9164 - val_loss: 0.2765 - val_accuracy: 0.9228\n",
      "Epoch 23/50\n",
      "118/118 [==============================] - 1s 7ms/step - loss: 0.2879 - accuracy: 0.9175 - val_loss: 0.2734 - val_accuracy: 0.9227\n",
      "Epoch 24/50\n",
      "118/118 [==============================] - 1s 7ms/step - loss: 0.2835 - accuracy: 0.9191 - val_loss: 0.2698 - val_accuracy: 0.9254\n",
      "Epoch 25/50\n",
      "118/118 [==============================] - 1s 7ms/step - loss: 0.2793 - accuracy: 0.9201 - val_loss: 0.2655 - val_accuracy: 0.9251\n",
      "Epoch 26/50\n",
      "118/118 [==============================] - 1s 7ms/step - loss: 0.2752 - accuracy: 0.9211 - val_loss: 0.2625 - val_accuracy: 0.9265\n",
      "Epoch 27/50\n",
      "118/118 [==============================] - 1s 7ms/step - loss: 0.2713 - accuracy: 0.9222 - val_loss: 0.2590 - val_accuracy: 0.9270\n",
      "Epoch 28/50\n",
      "118/118 [==============================] - 1s 7ms/step - loss: 0.2676 - accuracy: 0.9235 - val_loss: 0.2559 - val_accuracy: 0.9288\n",
      "Epoch 29/50\n",
      "118/118 [==============================] - 1s 7ms/step - loss: 0.2641 - accuracy: 0.9240 - val_loss: 0.2526 - val_accuracy: 0.9291\n",
      "Epoch 30/50\n",
      "118/118 [==============================] - 1s 7ms/step - loss: 0.2606 - accuracy: 0.9255 - val_loss: 0.2491 - val_accuracy: 0.9303\n",
      "Epoch 31/50\n",
      "118/118 [==============================] - 1s 8ms/step - loss: 0.2573 - accuracy: 0.9265 - val_loss: 0.2471 - val_accuracy: 0.9308\n",
      "Epoch 32/50\n",
      "118/118 [==============================] - 1s 7ms/step - loss: 0.2541 - accuracy: 0.9272 - val_loss: 0.2430 - val_accuracy: 0.9314\n",
      "Epoch 33/50\n",
      "118/118 [==============================] - 1s 7ms/step - loss: 0.2510 - accuracy: 0.9280 - val_loss: 0.2401 - val_accuracy: 0.9329\n",
      "Epoch 34/50\n",
      "118/118 [==============================] - 1s 7ms/step - loss: 0.2480 - accuracy: 0.9291 - val_loss: 0.2377 - val_accuracy: 0.9327\n",
      "Epoch 35/50\n",
      "118/118 [==============================] - 1s 7ms/step - loss: 0.2451 - accuracy: 0.9301 - val_loss: 0.2355 - val_accuracy: 0.9334\n",
      "Epoch 36/50\n",
      "118/118 [==============================] - 1s 7ms/step - loss: 0.2422 - accuracy: 0.9311 - val_loss: 0.2326 - val_accuracy: 0.9334\n",
      "Epoch 37/50\n",
      "118/118 [==============================] - 1s 7ms/step - loss: 0.2395 - accuracy: 0.9322 - val_loss: 0.2308 - val_accuracy: 0.9344\n",
      "Epoch 38/50\n",
      "118/118 [==============================] - 1s 7ms/step - loss: 0.2367 - accuracy: 0.9327 - val_loss: 0.2283 - val_accuracy: 0.9357\n",
      "Epoch 39/50\n",
      "118/118 [==============================] - 1s 7ms/step - loss: 0.2341 - accuracy: 0.9335 - val_loss: 0.2260 - val_accuracy: 0.9358\n",
      "Epoch 40/50\n",
      "118/118 [==============================] - 1s 7ms/step - loss: 0.2315 - accuracy: 0.9344 - val_loss: 0.2240 - val_accuracy: 0.9370\n",
      "Epoch 41/50\n",
      "118/118 [==============================] - 1s 8ms/step - loss: 0.2290 - accuracy: 0.9350 - val_loss: 0.2212 - val_accuracy: 0.9371\n",
      "Epoch 42/50\n",
      "118/118 [==============================] - 1s 9ms/step - loss: 0.2265 - accuracy: 0.9359 - val_loss: 0.2195 - val_accuracy: 0.9379\n",
      "Epoch 43/50\n",
      "118/118 [==============================] - 1s 9ms/step - loss: 0.2243 - accuracy: 0.9366 - val_loss: 0.2173 - val_accuracy: 0.9390\n",
      "Epoch 44/50\n",
      "118/118 [==============================] - 1s 8ms/step - loss: 0.2220 - accuracy: 0.9371 - val_loss: 0.2154 - val_accuracy: 0.9394\n",
      "Epoch 45/50\n",
      "118/118 [==============================] - 1s 8ms/step - loss: 0.2197 - accuracy: 0.9376 - val_loss: 0.2127 - val_accuracy: 0.9403\n",
      "Epoch 46/50\n",
      "118/118 [==============================] - 1s 8ms/step - loss: 0.2174 - accuracy: 0.9384 - val_loss: 0.2117 - val_accuracy: 0.9403\n",
      "Epoch 47/50\n",
      "118/118 [==============================] - 1s 8ms/step - loss: 0.2153 - accuracy: 0.9391 - val_loss: 0.2092 - val_accuracy: 0.9414\n",
      "Epoch 48/50\n",
      "118/118 [==============================] - 1s 7ms/step - loss: 0.2132 - accuracy: 0.9395 - val_loss: 0.2073 - val_accuracy: 0.9419\n",
      "Epoch 49/50\n",
      "118/118 [==============================] - 1s 7ms/step - loss: 0.2111 - accuracy: 0.9398 - val_loss: 0.2052 - val_accuracy: 0.9417\n",
      "Epoch 50/50\n",
      "118/118 [==============================] - 1s 8ms/step - loss: 0.2090 - accuracy: 0.9406 - val_loss: 0.2035 - val_accuracy: 0.9428\n"
     ]
    }
   ],
   "source": [
    "# 学習\n",
    "\n",
    "# 学習の単位\n",
    "batch_size = 512\n",
    "\n",
    "# 繰り返し回数\n",
    "nb_epoch = 50\n",
    "\n",
    "# モデルの学習\n",
    "history1 = model.fit(\n",
    "    x_train,\n",
    "    y_train_ohe,\n",
    "    batch_size=batch_size,\n",
    "    epochs=nb_epoch,\n",
    "    verbose=1,\n",
    "    validation_data=(x_test, y_test_ohe))"
   ]
  },
  {
   "cell_type": "markdown",
   "metadata": {},
   "source": [
    "## 11.4 数値微分"
   ]
  },
  {
   "cell_type": "code",
   "execution_count": 7,
   "metadata": {},
   "outputs": [
    {
     "name": "stdout",
     "output_type": "stream",
     "text": [
      "1.0000001666666813\n"
     ]
    }
   ],
   "source": [
    "import numpy as np\n",
    "\n",
    "#  ネイピア数を底とする指数関数の定義\n",
    "\n",
    "\n",
    "def f(x):\n",
    "    return np.exp(x)\n",
    "\n",
    "\n",
    "# 微少な数 hの定義\n",
    "h = 0.001\n",
    "\n",
    "# f'(0)の近似計算\n",
    "# f'(0) = f(0) = 1に近い値になるはず\n",
    "diff = (f(0 + h) - f(0 - h))/(2 * h)\n",
    "\n",
    "# 結果の確認\n",
    "print(diff)"
   ]
  },
  {
   "cell_type": "markdown",
   "metadata": {},
   "source": [
    "## 11.5 高度な学習法"
   ]
  },
  {
   "cell_type": "markdown",
   "metadata": {},
   "source": [
    "SGD"
   ]
  },
  {
   "cell_type": "code",
   "execution_count": 8,
   "metadata": {},
   "outputs": [],
   "source": [
    "# 必要ライブラリのロード\n",
    "from keras.models import Sequential\n",
    "from keras.layers import Dense\n",
    "\n",
    "# 学習の単位\n",
    "batch_size = 512\n",
    "\n",
    "# 繰り返し回数\n",
    "nb_epoch = 50"
   ]
  },
  {
   "cell_type": "code",
   "execution_count": 9,
   "metadata": {},
   "outputs": [],
   "source": [
    "# Sequentialモデルの定義\n",
    "model = Sequential()\n",
    "\n",
    "# 隠れ層1の定義\n",
    "model.add(Dense(H, activation='relu',\n",
    "          kernel_initializer='he_normal', input_shape=(D,)))\n",
    "\n",
    "# 隠れ層2の定義\n",
    "model.add(Dense(H, activation='relu', kernel_initializer='he_normal'))\n",
    "\n",
    "# 出力層\n",
    "model.add(Dense(num_classes, activation='softmax',\n",
    "          kernel_initializer='he_normal'))"
   ]
  },
  {
   "cell_type": "code",
   "execution_count": 10,
   "metadata": {},
   "outputs": [
    {
     "name": "stdout",
     "output_type": "stream",
     "text": [
      "Epoch 1/50\n",
      "118/118 [==============================] - 1s 7ms/step - loss: 1.8136 - accuracy: 0.4955 - val_loss: 1.3072 - val_accuracy: 0.7024\n",
      "Epoch 2/50\n",
      "118/118 [==============================] - 1s 5ms/step - loss: 1.0391 - accuracy: 0.7661 - val_loss: 0.7905 - val_accuracy: 0.8244\n",
      "Epoch 3/50\n",
      "118/118 [==============================] - 1s 5ms/step - loss: 0.7079 - accuracy: 0.8334 - val_loss: 0.5944 - val_accuracy: 0.8568\n",
      "Epoch 4/50\n",
      "118/118 [==============================] - 1s 6ms/step - loss: 0.5676 - accuracy: 0.8576 - val_loss: 0.5005 - val_accuracy: 0.8739\n",
      "Epoch 5/50\n",
      "118/118 [==============================] - 1s 6ms/step - loss: 0.4930 - accuracy: 0.8722 - val_loss: 0.4450 - val_accuracy: 0.8835\n",
      "Epoch 6/50\n",
      "118/118 [==============================] - 1s 7ms/step - loss: 0.4467 - accuracy: 0.8812 - val_loss: 0.4091 - val_accuracy: 0.8909\n",
      "Epoch 7/50\n",
      "118/118 [==============================] - 1s 6ms/step - loss: 0.4148 - accuracy: 0.8877 - val_loss: 0.3827 - val_accuracy: 0.8966\n",
      "Epoch 8/50\n",
      "118/118 [==============================] - 1s 6ms/step - loss: 0.3914 - accuracy: 0.8931 - val_loss: 0.3625 - val_accuracy: 0.9005\n",
      "Epoch 9/50\n",
      "118/118 [==============================] - 1s 7ms/step - loss: 0.3731 - accuracy: 0.8972 - val_loss: 0.3470 - val_accuracy: 0.9031\n",
      "Epoch 10/50\n",
      "118/118 [==============================] - 1s 6ms/step - loss: 0.3584 - accuracy: 0.9008 - val_loss: 0.3346 - val_accuracy: 0.9062\n",
      "Epoch 11/50\n",
      "118/118 [==============================] - 1s 7ms/step - loss: 0.3460 - accuracy: 0.9041 - val_loss: 0.3241 - val_accuracy: 0.9079\n",
      "Epoch 12/50\n",
      "118/118 [==============================] - 1s 8ms/step - loss: 0.3355 - accuracy: 0.9062 - val_loss: 0.3143 - val_accuracy: 0.9107\n",
      "Epoch 13/50\n",
      "118/118 [==============================] - 1s 8ms/step - loss: 0.3262 - accuracy: 0.9083 - val_loss: 0.3066 - val_accuracy: 0.9115\n",
      "Epoch 14/50\n",
      "118/118 [==============================] - 1s 7ms/step - loss: 0.3179 - accuracy: 0.9107 - val_loss: 0.2996 - val_accuracy: 0.9139\n",
      "Epoch 15/50\n",
      "118/118 [==============================] - 1s 7ms/step - loss: 0.3106 - accuracy: 0.9123 - val_loss: 0.2942 - val_accuracy: 0.9150\n",
      "Epoch 16/50\n",
      "118/118 [==============================] - 1s 7ms/step - loss: 0.3038 - accuracy: 0.9145 - val_loss: 0.2879 - val_accuracy: 0.9185\n",
      "Epoch 17/50\n",
      "118/118 [==============================] - 1s 7ms/step - loss: 0.2978 - accuracy: 0.9155 - val_loss: 0.2824 - val_accuracy: 0.9189\n",
      "Epoch 18/50\n",
      "118/118 [==============================] - 1s 8ms/step - loss: 0.2922 - accuracy: 0.9171 - val_loss: 0.2775 - val_accuracy: 0.9195\n",
      "Epoch 19/50\n",
      "118/118 [==============================] - 1s 7ms/step - loss: 0.2868 - accuracy: 0.9185 - val_loss: 0.2728 - val_accuracy: 0.9218\n",
      "Epoch 20/50\n",
      "118/118 [==============================] - 1s 8ms/step - loss: 0.2819 - accuracy: 0.9197 - val_loss: 0.2684 - val_accuracy: 0.9218\n",
      "Epoch 21/50\n",
      "118/118 [==============================] - 1s 8ms/step - loss: 0.2771 - accuracy: 0.9215 - val_loss: 0.2652 - val_accuracy: 0.9234\n",
      "Epoch 22/50\n",
      "118/118 [==============================] - 1s 9ms/step - loss: 0.2726 - accuracy: 0.9224 - val_loss: 0.2605 - val_accuracy: 0.9251\n",
      "Epoch 23/50\n",
      "118/118 [==============================] - 1s 8ms/step - loss: 0.2684 - accuracy: 0.9235 - val_loss: 0.2571 - val_accuracy: 0.9256\n",
      "Epoch 24/50\n",
      "118/118 [==============================] - 1s 8ms/step - loss: 0.2645 - accuracy: 0.9243 - val_loss: 0.2533 - val_accuracy: 0.9278\n",
      "Epoch 25/50\n",
      "118/118 [==============================] - 1s 8ms/step - loss: 0.2605 - accuracy: 0.9257 - val_loss: 0.2502 - val_accuracy: 0.9275\n",
      "Epoch 26/50\n",
      "118/118 [==============================] - 1s 9ms/step - loss: 0.2570 - accuracy: 0.9267 - val_loss: 0.2483 - val_accuracy: 0.9278\n",
      "Epoch 27/50\n",
      "118/118 [==============================] - 1s 8ms/step - loss: 0.2535 - accuracy: 0.9278 - val_loss: 0.2444 - val_accuracy: 0.9289\n",
      "Epoch 28/50\n",
      "118/118 [==============================] - 1s 9ms/step - loss: 0.2500 - accuracy: 0.9288 - val_loss: 0.2431 - val_accuracy: 0.9305\n",
      "Epoch 29/50\n",
      "118/118 [==============================] - 1s 9ms/step - loss: 0.2469 - accuracy: 0.9299 - val_loss: 0.2387 - val_accuracy: 0.9308\n",
      "Epoch 30/50\n",
      "118/118 [==============================] - 1s 9ms/step - loss: 0.2437 - accuracy: 0.9306 - val_loss: 0.2362 - val_accuracy: 0.9324\n",
      "Epoch 31/50\n",
      "118/118 [==============================] - 1s 10ms/step - loss: 0.2407 - accuracy: 0.9315 - val_loss: 0.2331 - val_accuracy: 0.9325\n",
      "Epoch 32/50\n",
      "118/118 [==============================] - 1s 9ms/step - loss: 0.2377 - accuracy: 0.9324 - val_loss: 0.2309 - val_accuracy: 0.9326\n",
      "Epoch 33/50\n",
      "118/118 [==============================] - 1s 9ms/step - loss: 0.2349 - accuracy: 0.9331 - val_loss: 0.2284 - val_accuracy: 0.9334\n",
      "Epoch 34/50\n",
      "118/118 [==============================] - 1s 10ms/step - loss: 0.2321 - accuracy: 0.9338 - val_loss: 0.2272 - val_accuracy: 0.9338\n",
      "Epoch 35/50\n",
      "118/118 [==============================] - 1s 9ms/step - loss: 0.2294 - accuracy: 0.9349 - val_loss: 0.2243 - val_accuracy: 0.9342\n",
      "Epoch 36/50\n",
      "118/118 [==============================] - 1s 9ms/step - loss: 0.2267 - accuracy: 0.9356 - val_loss: 0.2218 - val_accuracy: 0.9340\n",
      "Epoch 37/50\n",
      "118/118 [==============================] - 1s 9ms/step - loss: 0.2242 - accuracy: 0.9362 - val_loss: 0.2189 - val_accuracy: 0.9358\n",
      "Epoch 38/50\n",
      "118/118 [==============================] - 1s 10ms/step - loss: 0.2218 - accuracy: 0.9366 - val_loss: 0.2168 - val_accuracy: 0.9368\n",
      "Epoch 39/50\n",
      "118/118 [==============================] - 1s 9ms/step - loss: 0.2193 - accuracy: 0.9377 - val_loss: 0.2151 - val_accuracy: 0.9384\n",
      "Epoch 40/50\n",
      "118/118 [==============================] - 1s 9ms/step - loss: 0.2170 - accuracy: 0.9388 - val_loss: 0.2124 - val_accuracy: 0.9399\n",
      "Epoch 41/50\n",
      "118/118 [==============================] - 1s 9ms/step - loss: 0.2147 - accuracy: 0.9394 - val_loss: 0.2103 - val_accuracy: 0.9383\n",
      "Epoch 42/50\n",
      "118/118 [==============================] - 1s 9ms/step - loss: 0.2124 - accuracy: 0.9401 - val_loss: 0.2091 - val_accuracy: 0.9387\n",
      "Epoch 43/50\n",
      "118/118 [==============================] - 1s 9ms/step - loss: 0.2103 - accuracy: 0.9406 - val_loss: 0.2066 - val_accuracy: 0.9406\n",
      "Epoch 44/50\n",
      "118/118 [==============================] - 1s 9ms/step - loss: 0.2082 - accuracy: 0.9414 - val_loss: 0.2055 - val_accuracy: 0.9397\n",
      "Epoch 45/50\n",
      "118/118 [==============================] - 1s 9ms/step - loss: 0.2060 - accuracy: 0.9416 - val_loss: 0.2027 - val_accuracy: 0.9409\n",
      "Epoch 46/50\n",
      "118/118 [==============================] - 1s 10ms/step - loss: 0.2039 - accuracy: 0.9423 - val_loss: 0.2014 - val_accuracy: 0.9406\n",
      "Epoch 47/50\n",
      "118/118 [==============================] - 1s 10ms/step - loss: 0.2019 - accuracy: 0.9430 - val_loss: 0.1990 - val_accuracy: 0.9420\n",
      "Epoch 48/50\n",
      "118/118 [==============================] - 1s 10ms/step - loss: 0.1999 - accuracy: 0.9436 - val_loss: 0.1976 - val_accuracy: 0.9422\n",
      "Epoch 49/50\n",
      "118/118 [==============================] - 1s 9ms/step - loss: 0.1980 - accuracy: 0.9441 - val_loss: 0.1958 - val_accuracy: 0.9429\n",
      "Epoch 50/50\n",
      "118/118 [==============================] - 1s 9ms/step - loss: 0.1961 - accuracy: 0.9446 - val_loss: 0.1938 - val_accuracy: 0.9437\n"
     ]
    }
   ],
   "source": [
    "# モデルのコンパイル\n",
    "model.compile(loss='categorical_crossentropy',\n",
    "              optimizer='sgd',\n",
    "              metrics=['accuracy'])\n",
    "\n",
    "# モデルの学習\n",
    "history1 = model.fit(\n",
    "    x_train,\n",
    "    y_train_ohe,\n",
    "    batch_size=batch_size,\n",
    "    epochs=nb_epoch,\n",
    "    verbose=1,\n",
    "    validation_data=(x_test, y_test_ohe))"
   ]
  },
  {
   "cell_type": "markdown",
   "metadata": {},
   "source": [
    "RMSProp"
   ]
  },
  {
   "cell_type": "code",
   "execution_count": null,
   "metadata": {},
   "outputs": [],
   "source": [
    "# Sequentialモデルの定義\n",
    "model = Sequential()\n",
    "\n",
    "# 隠れ層1の定義\n",
    "model.add(Dense(H, activation='relu',\n",
    "          kernel_initializer='he_normal', input_shape=(D,)))\n",
    "\n",
    "# 隠れ層2の定義\n",
    "model.add(Dense(H, activation='relu', kernel_initializer='he_normal'))\n",
    "\n",
    "# 出力層\n",
    "model.add(Dense(num_classes, activation='softmax',\n",
    "          kernel_initializer='he_normal'))"
   ]
  },
  {
   "cell_type": "code",
   "execution_count": 11,
   "metadata": {},
   "outputs": [
    {
     "name": "stdout",
     "output_type": "stream",
     "text": [
      "Epoch 1/50\n",
      "118/118 [==============================] - 2s 8ms/step - loss: 0.1946 - accuracy: 0.9437 - val_loss: 0.2119 - val_accuracy: 0.9359\n",
      "Epoch 2/50\n",
      "118/118 [==============================] - 1s 6ms/step - loss: 0.1379 - accuracy: 0.9598 - val_loss: 0.1264 - val_accuracy: 0.9599\n",
      "Epoch 3/50\n",
      "118/118 [==============================] - 1s 6ms/step - loss: 0.1060 - accuracy: 0.9686 - val_loss: 0.1136 - val_accuracy: 0.9663\n",
      "Epoch 4/50\n",
      "118/118 [==============================] - 1s 6ms/step - loss: 0.0854 - accuracy: 0.9748 - val_loss: 0.0934 - val_accuracy: 0.9698\n",
      "Epoch 5/50\n",
      "118/118 [==============================] - 1s 7ms/step - loss: 0.0713 - accuracy: 0.9781 - val_loss: 0.0945 - val_accuracy: 0.9724\n",
      "Epoch 6/50\n",
      "118/118 [==============================] - 1s 6ms/step - loss: 0.0585 - accuracy: 0.9825 - val_loss: 0.0799 - val_accuracy: 0.9755\n",
      "Epoch 7/50\n",
      "118/118 [==============================] - 1s 6ms/step - loss: 0.0500 - accuracy: 0.9850 - val_loss: 0.0981 - val_accuracy: 0.9702\n",
      "Epoch 8/50\n",
      "118/118 [==============================] - 1s 6ms/step - loss: 0.0416 - accuracy: 0.9876 - val_loss: 0.1056 - val_accuracy: 0.9662\n",
      "Epoch 9/50\n",
      "118/118 [==============================] - 1s 5ms/step - loss: 0.0368 - accuracy: 0.9888 - val_loss: 0.0721 - val_accuracy: 0.9776\n",
      "Epoch 10/50\n",
      "118/118 [==============================] - 1s 5ms/step - loss: 0.0310 - accuracy: 0.9908 - val_loss: 0.1002 - val_accuracy: 0.9706\n",
      "Epoch 11/50\n",
      "118/118 [==============================] - 1s 5ms/step - loss: 0.0266 - accuracy: 0.9923 - val_loss: 0.0734 - val_accuracy: 0.9769\n",
      "Epoch 12/50\n",
      "118/118 [==============================] - 1s 5ms/step - loss: 0.0236 - accuracy: 0.9931 - val_loss: 0.0713 - val_accuracy: 0.9781\n",
      "Epoch 13/50\n",
      "118/118 [==============================] - 1s 7ms/step - loss: 0.0201 - accuracy: 0.9941 - val_loss: 0.0887 - val_accuracy: 0.9726\n",
      "Epoch 14/50\n",
      "118/118 [==============================] - 1s 6ms/step - loss: 0.0168 - accuracy: 0.9952 - val_loss: 0.0823 - val_accuracy: 0.9758\n",
      "Epoch 15/50\n",
      "118/118 [==============================] - 1s 6ms/step - loss: 0.0147 - accuracy: 0.9960 - val_loss: 0.1260 - val_accuracy: 0.9647\n",
      "Epoch 16/50\n",
      "118/118 [==============================] - 1s 6ms/step - loss: 0.0129 - accuracy: 0.9964 - val_loss: 0.0848 - val_accuracy: 0.9762\n",
      "Epoch 17/50\n",
      "118/118 [==============================] - 1s 6ms/step - loss: 0.0112 - accuracy: 0.9970 - val_loss: 0.0795 - val_accuracy: 0.9791\n",
      "Epoch 18/50\n",
      "118/118 [==============================] - 1s 6ms/step - loss: 0.0098 - accuracy: 0.9972 - val_loss: 0.0792 - val_accuracy: 0.9789\n",
      "Epoch 19/50\n",
      "118/118 [==============================] - 1s 7ms/step - loss: 0.0085 - accuracy: 0.9979 - val_loss: 0.1007 - val_accuracy: 0.9753\n",
      "Epoch 20/50\n",
      "118/118 [==============================] - 1s 6ms/step - loss: 0.0076 - accuracy: 0.9981 - val_loss: 0.0818 - val_accuracy: 0.9789\n",
      "Epoch 21/50\n",
      "118/118 [==============================] - 1s 6ms/step - loss: 0.0065 - accuracy: 0.9983 - val_loss: 0.0898 - val_accuracy: 0.9762\n",
      "Epoch 22/50\n",
      "118/118 [==============================] - 1s 6ms/step - loss: 0.0058 - accuracy: 0.9984 - val_loss: 0.1133 - val_accuracy: 0.9699\n",
      "Epoch 23/50\n",
      "118/118 [==============================] - 1s 6ms/step - loss: 0.0053 - accuracy: 0.9986 - val_loss: 0.0881 - val_accuracy: 0.9792\n",
      "Epoch 24/50\n",
      "118/118 [==============================] - 1s 7ms/step - loss: 0.0046 - accuracy: 0.9988 - val_loss: 0.0893 - val_accuracy: 0.9795\n",
      "Epoch 25/50\n",
      "118/118 [==============================] - 1s 5ms/step - loss: 0.0047 - accuracy: 0.9987 - val_loss: 0.0888 - val_accuracy: 0.9789\n",
      "Epoch 26/50\n",
      "118/118 [==============================] - 1s 6ms/step - loss: 0.0031 - accuracy: 0.9993 - val_loss: 0.0959 - val_accuracy: 0.9783\n",
      "Epoch 27/50\n",
      "118/118 [==============================] - 1s 7ms/step - loss: 0.0033 - accuracy: 0.9991 - val_loss: 0.1100 - val_accuracy: 0.9762\n",
      "Epoch 28/50\n",
      "118/118 [==============================] - 1s 6ms/step - loss: 0.0027 - accuracy: 0.9994 - val_loss: 0.0960 - val_accuracy: 0.9788\n",
      "Epoch 29/50\n",
      "118/118 [==============================] - 1s 6ms/step - loss: 0.0025 - accuracy: 0.9993 - val_loss: 0.0938 - val_accuracy: 0.9793\n",
      "Epoch 30/50\n",
      "118/118 [==============================] - 1s 6ms/step - loss: 0.0025 - accuracy: 0.9993 - val_loss: 0.1080 - val_accuracy: 0.9768\n",
      "Epoch 31/50\n",
      "118/118 [==============================] - 1s 6ms/step - loss: 0.0020 - accuracy: 0.9995 - val_loss: 0.1146 - val_accuracy: 0.9783\n",
      "Epoch 32/50\n",
      "118/118 [==============================] - 1s 6ms/step - loss: 0.0014 - accuracy: 0.9997 - val_loss: 0.1278 - val_accuracy: 0.9774\n",
      "Epoch 33/50\n",
      "118/118 [==============================] - 1s 7ms/step - loss: 0.0018 - accuracy: 0.9995 - val_loss: 0.1103 - val_accuracy: 0.9788\n",
      "Epoch 34/50\n",
      "118/118 [==============================] - 1s 7ms/step - loss: 0.0020 - accuracy: 0.9995 - val_loss: 0.1086 - val_accuracy: 0.9787\n",
      "Epoch 35/50\n",
      "118/118 [==============================] - 1s 6ms/step - loss: 0.0014 - accuracy: 0.9996 - val_loss: 0.1179 - val_accuracy: 0.9780\n",
      "Epoch 36/50\n",
      "118/118 [==============================] - 1s 6ms/step - loss: 0.0018 - accuracy: 0.9994 - val_loss: 0.1146 - val_accuracy: 0.9784\n",
      "Epoch 37/50\n",
      "118/118 [==============================] - 1s 6ms/step - loss: 0.0018 - accuracy: 0.9995 - val_loss: 0.1148 - val_accuracy: 0.9775\n",
      "Epoch 38/50\n",
      "118/118 [==============================] - 1s 6ms/step - loss: 0.0012 - accuracy: 0.9997 - val_loss: 0.1199 - val_accuracy: 0.9788\n",
      "Epoch 39/50\n",
      "118/118 [==============================] - 1s 6ms/step - loss: 0.0015 - accuracy: 0.9997 - val_loss: 0.1505 - val_accuracy: 0.9765\n",
      "Epoch 40/50\n",
      "118/118 [==============================] - 1s 6ms/step - loss: 0.0011 - accuracy: 0.9997 - val_loss: 0.1519 - val_accuracy: 0.9740\n",
      "Epoch 41/50\n",
      "118/118 [==============================] - 1s 6ms/step - loss: 0.0014 - accuracy: 0.9997 - val_loss: 0.1186 - val_accuracy: 0.9798\n",
      "Epoch 42/50\n",
      "118/118 [==============================] - 1s 7ms/step - loss: 7.6555e-04 - accuracy: 0.9998 - val_loss: 0.1392 - val_accuracy: 0.9774\n",
      "Epoch 43/50\n",
      "118/118 [==============================] - 1s 6ms/step - loss: 0.0017 - accuracy: 0.9996 - val_loss: 0.1323 - val_accuracy: 0.9773\n",
      "Epoch 44/50\n",
      "118/118 [==============================] - 1s 6ms/step - loss: 7.7528e-04 - accuracy: 0.9998 - val_loss: 0.1272 - val_accuracy: 0.9788\n",
      "Epoch 45/50\n",
      "118/118 [==============================] - 1s 6ms/step - loss: 0.0012 - accuracy: 0.9997 - val_loss: 0.1484 - val_accuracy: 0.9771\n",
      "Epoch 46/50\n",
      "118/118 [==============================] - 1s 6ms/step - loss: 8.1772e-04 - accuracy: 0.9998 - val_loss: 0.1368 - val_accuracy: 0.9791\n",
      "Epoch 47/50\n",
      "118/118 [==============================] - 1s 6ms/step - loss: 0.0010 - accuracy: 0.9997 - val_loss: 0.1296 - val_accuracy: 0.9786\n",
      "Epoch 48/50\n",
      "118/118 [==============================] - 1s 6ms/step - loss: 0.0010 - accuracy: 0.9998 - val_loss: 0.1400 - val_accuracy: 0.9776\n",
      "Epoch 49/50\n",
      "118/118 [==============================] - 1s 6ms/step - loss: 0.0011 - accuracy: 0.9996 - val_loss: 0.1355 - val_accuracy: 0.9788\n",
      "Epoch 50/50\n",
      "118/118 [==============================] - 1s 6ms/step - loss: 0.0014 - accuracy: 0.9997 - val_loss: 0.1476 - val_accuracy: 0.9773\n"
     ]
    }
   ],
   "source": [
    "# モデルのコンパイル\n",
    "model.compile(loss='categorical_crossentropy',\n",
    "              optimizer='rmsprop',\n",
    "              metrics=['accuracy'])\n",
    "\n",
    "# モデルの学習\n",
    "history2 = model.fit(\n",
    "    x_train,\n",
    "    y_train_ohe,\n",
    "    batch_size=batch_size,\n",
    "    epochs=nb_epoch,\n",
    "    verbose=1,\n",
    "    validation_data=(x_test, y_test_ohe))"
   ]
  },
  {
   "cell_type": "markdown",
   "metadata": {},
   "source": [
    "Momentum"
   ]
  },
  {
   "cell_type": "code",
   "execution_count": 13,
   "metadata": {},
   "outputs": [],
   "source": [
    "# Sequentialモデルの定義\n",
    "model = Sequential()\n",
    "\n",
    "# 隠れ層1の定義\n",
    "model.add(Dense(H, activation='relu',\n",
    "          kernel_initializer='he_normal', input_shape=(D,)))\n",
    "\n",
    "# 隠れ層2の定義\n",
    "model.add(Dense(H, activation='relu', kernel_initializer='he_normal'))\n",
    "\n",
    "# 出力層\n",
    "model.add(Dense(num_classes, activation='softmax',\n",
    "          kernel_initializer='he_normal'))\n"
   ]
  },
  {
   "cell_type": "code",
   "execution_count": 14,
   "metadata": {},
   "outputs": [
    {
     "name": "stdout",
     "output_type": "stream",
     "text": [
      "Epoch 1/50\n",
      "118/118 [==============================] - 1s 9ms/step - loss: 0.8551 - accuracy: 0.7530 - val_loss: 0.3528 - val_accuracy: 0.8960\n",
      "Epoch 2/50\n",
      "118/118 [==============================] - 1s 5ms/step - loss: 0.3272 - accuracy: 0.9051 - val_loss: 0.2783 - val_accuracy: 0.9181\n",
      "Epoch 3/50\n",
      "118/118 [==============================] - 1s 6ms/step - loss: 0.2716 - accuracy: 0.9212 - val_loss: 0.2427 - val_accuracy: 0.9293\n",
      "Epoch 4/50\n",
      "118/118 [==============================] - 1s 6ms/step - loss: 0.2390 - accuracy: 0.9315 - val_loss: 0.2185 - val_accuracy: 0.9355\n",
      "Epoch 5/50\n",
      "118/118 [==============================] - 1s 6ms/step - loss: 0.2141 - accuracy: 0.9383 - val_loss: 0.1977 - val_accuracy: 0.9416\n",
      "Epoch 6/50\n",
      "118/118 [==============================] - 1s 6ms/step - loss: 0.1937 - accuracy: 0.9446 - val_loss: 0.1801 - val_accuracy: 0.9451\n",
      "Epoch 7/50\n",
      "118/118 [==============================] - 1s 6ms/step - loss: 0.1777 - accuracy: 0.9495 - val_loss: 0.1681 - val_accuracy: 0.9490\n",
      "Epoch 8/50\n",
      "118/118 [==============================] - 1s 6ms/step - loss: 0.1641 - accuracy: 0.9534 - val_loss: 0.1600 - val_accuracy: 0.9524\n",
      "Epoch 9/50\n",
      "118/118 [==============================] - 1s 6ms/step - loss: 0.1525 - accuracy: 0.9565 - val_loss: 0.1489 - val_accuracy: 0.9551\n",
      "Epoch 10/50\n",
      "118/118 [==============================] - 1s 6ms/step - loss: 0.1418 - accuracy: 0.9594 - val_loss: 0.1404 - val_accuracy: 0.9576\n",
      "Epoch 11/50\n",
      "118/118 [==============================] - 1s 6ms/step - loss: 0.1328 - accuracy: 0.9620 - val_loss: 0.1324 - val_accuracy: 0.9604\n",
      "Epoch 12/50\n",
      "118/118 [==============================] - 1s 6ms/step - loss: 0.1247 - accuracy: 0.9646 - val_loss: 0.1278 - val_accuracy: 0.9620\n",
      "Epoch 13/50\n",
      "118/118 [==============================] - 1s 6ms/step - loss: 0.1177 - accuracy: 0.9664 - val_loss: 0.1236 - val_accuracy: 0.9623\n",
      "Epoch 14/50\n",
      "118/118 [==============================] - 1s 6ms/step - loss: 0.1113 - accuracy: 0.9682 - val_loss: 0.1176 - val_accuracy: 0.9654\n",
      "Epoch 15/50\n",
      "118/118 [==============================] - 1s 6ms/step - loss: 0.1050 - accuracy: 0.9699 - val_loss: 0.1135 - val_accuracy: 0.9653\n",
      "Epoch 16/50\n",
      "118/118 [==============================] - 1s 6ms/step - loss: 0.1000 - accuracy: 0.9711 - val_loss: 0.1114 - val_accuracy: 0.9661\n",
      "Epoch 17/50\n",
      "118/118 [==============================] - 1s 6ms/step - loss: 0.0951 - accuracy: 0.9729 - val_loss: 0.1066 - val_accuracy: 0.9678\n",
      "Epoch 18/50\n",
      "118/118 [==============================] - 1s 5ms/step - loss: 0.0903 - accuracy: 0.9740 - val_loss: 0.1029 - val_accuracy: 0.9685\n",
      "Epoch 19/50\n",
      "118/118 [==============================] - 1s 6ms/step - loss: 0.0868 - accuracy: 0.9753 - val_loss: 0.1011 - val_accuracy: 0.9682\n",
      "Epoch 20/50\n",
      "118/118 [==============================] - 1s 6ms/step - loss: 0.0826 - accuracy: 0.9766 - val_loss: 0.0991 - val_accuracy: 0.9691\n",
      "Epoch 21/50\n",
      "118/118 [==============================] - 1s 6ms/step - loss: 0.0785 - accuracy: 0.9777 - val_loss: 0.0957 - val_accuracy: 0.9703\n",
      "Epoch 22/50\n",
      "118/118 [==============================] - 1s 5ms/step - loss: 0.0757 - accuracy: 0.9784 - val_loss: 0.0963 - val_accuracy: 0.9704\n",
      "Epoch 23/50\n",
      "118/118 [==============================] - 1s 6ms/step - loss: 0.0729 - accuracy: 0.9796 - val_loss: 0.0944 - val_accuracy: 0.9705\n",
      "Epoch 24/50\n",
      "118/118 [==============================] - 1s 6ms/step - loss: 0.0700 - accuracy: 0.9802 - val_loss: 0.0896 - val_accuracy: 0.9723\n",
      "Epoch 25/50\n",
      "118/118 [==============================] - 1s 6ms/step - loss: 0.0670 - accuracy: 0.9808 - val_loss: 0.0895 - val_accuracy: 0.9711\n",
      "Epoch 26/50\n",
      "118/118 [==============================] - 1s 6ms/step - loss: 0.0641 - accuracy: 0.9819 - val_loss: 0.0869 - val_accuracy: 0.9730\n",
      "Epoch 27/50\n",
      "118/118 [==============================] - 1s 6ms/step - loss: 0.0616 - accuracy: 0.9828 - val_loss: 0.0862 - val_accuracy: 0.9726\n",
      "Epoch 28/50\n",
      "118/118 [==============================] - 1s 6ms/step - loss: 0.0590 - accuracy: 0.9837 - val_loss: 0.0847 - val_accuracy: 0.9727\n",
      "Epoch 29/50\n",
      "118/118 [==============================] - 1s 6ms/step - loss: 0.0574 - accuracy: 0.9843 - val_loss: 0.0845 - val_accuracy: 0.9735\n",
      "Epoch 30/50\n",
      "118/118 [==============================] - 1s 6ms/step - loss: 0.0551 - accuracy: 0.9850 - val_loss: 0.0819 - val_accuracy: 0.9740\n",
      "Epoch 31/50\n",
      "118/118 [==============================] - 1s 6ms/step - loss: 0.0533 - accuracy: 0.9856 - val_loss: 0.0819 - val_accuracy: 0.9750\n",
      "Epoch 32/50\n",
      "118/118 [==============================] - 1s 6ms/step - loss: 0.0508 - accuracy: 0.9863 - val_loss: 0.0800 - val_accuracy: 0.9746\n",
      "Epoch 33/50\n",
      "118/118 [==============================] - 1s 6ms/step - loss: 0.0493 - accuracy: 0.9869 - val_loss: 0.0812 - val_accuracy: 0.9740\n",
      "Epoch 34/50\n",
      "118/118 [==============================] - 1s 6ms/step - loss: 0.0475 - accuracy: 0.9872 - val_loss: 0.0816 - val_accuracy: 0.9745\n",
      "Epoch 35/50\n",
      "118/118 [==============================] - 1s 7ms/step - loss: 0.0464 - accuracy: 0.9875 - val_loss: 0.0796 - val_accuracy: 0.9754\n",
      "Epoch 36/50\n",
      "118/118 [==============================] - 1s 6ms/step - loss: 0.0448 - accuracy: 0.9879 - val_loss: 0.0767 - val_accuracy: 0.9759\n",
      "Epoch 37/50\n",
      "118/118 [==============================] - 1s 6ms/step - loss: 0.0427 - accuracy: 0.9891 - val_loss: 0.0764 - val_accuracy: 0.9755\n",
      "Epoch 38/50\n",
      "118/118 [==============================] - 1s 7ms/step - loss: 0.0415 - accuracy: 0.9892 - val_loss: 0.0789 - val_accuracy: 0.9751\n",
      "Epoch 39/50\n",
      "118/118 [==============================] - 1s 7ms/step - loss: 0.0403 - accuracy: 0.9895 - val_loss: 0.0751 - val_accuracy: 0.9771\n",
      "Epoch 40/50\n",
      "118/118 [==============================] - 1s 7ms/step - loss: 0.0382 - accuracy: 0.9906 - val_loss: 0.0753 - val_accuracy: 0.9761\n",
      "Epoch 41/50\n",
      "118/118 [==============================] - 1s 6ms/step - loss: 0.0374 - accuracy: 0.9904 - val_loss: 0.0758 - val_accuracy: 0.9761\n",
      "Epoch 42/50\n",
      "118/118 [==============================] - 1s 7ms/step - loss: 0.0366 - accuracy: 0.9910 - val_loss: 0.0738 - val_accuracy: 0.9768\n",
      "Epoch 43/50\n",
      "118/118 [==============================] - 1s 6ms/step - loss: 0.0347 - accuracy: 0.9915 - val_loss: 0.0743 - val_accuracy: 0.9769\n",
      "Epoch 44/50\n",
      "118/118 [==============================] - 1s 6ms/step - loss: 0.0339 - accuracy: 0.9917 - val_loss: 0.0740 - val_accuracy: 0.9764\n",
      "Epoch 45/50\n",
      "118/118 [==============================] - 1s 6ms/step - loss: 0.0325 - accuracy: 0.9919 - val_loss: 0.0742 - val_accuracy: 0.9759\n",
      "Epoch 46/50\n",
      "118/118 [==============================] - 1s 7ms/step - loss: 0.0317 - accuracy: 0.9922 - val_loss: 0.0744 - val_accuracy: 0.9772\n",
      "Epoch 47/50\n",
      "118/118 [==============================] - 1s 6ms/step - loss: 0.0304 - accuracy: 0.9930 - val_loss: 0.0728 - val_accuracy: 0.9769\n",
      "Epoch 48/50\n",
      "118/118 [==============================] - 1s 6ms/step - loss: 0.0295 - accuracy: 0.9931 - val_loss: 0.0731 - val_accuracy: 0.9771\n",
      "Epoch 49/50\n",
      "118/118 [==============================] - 1s 6ms/step - loss: 0.0286 - accuracy: 0.9934 - val_loss: 0.0734 - val_accuracy: 0.9765\n",
      "Epoch 50/50\n",
      "118/118 [==============================] - 1s 8ms/step - loss: 0.0282 - accuracy: 0.9935 - val_loss: 0.0727 - val_accuracy: 0.9767\n"
     ]
    }
   ],
   "source": [
    "# モデルのコンパイル\n",
    "from keras import optimizers\n",
    "\n",
    "sgd = optimizers.gradient_descent_v2.SGD(momentum=0.9)\n",
    "model.compile(loss='categorical_crossentropy',\n",
    "              optimizer=sgd,\n",
    "              metrics=['accuracy'])\n",
    "\n",
    "# モデルの学習\n",
    "history3 = model.fit(\n",
    "    x_train,\n",
    "    y_train_ohe,\n",
    "    batch_size=batch_size,\n",
    "    epochs=nb_epoch,\n",
    "    verbose=1,\n",
    "    validation_data=(x_test, y_test_ohe))"
   ]
  },
  {
   "cell_type": "markdown",
   "metadata": {},
   "source": [
    "グラフ表示による比較"
   ]
  },
  {
   "cell_type": "code",
   "execution_count": 15,
   "metadata": {},
   "outputs": [
    {
     "data": {
      "image/png": "[encoded data removed]",
      "text/plain": [
       "<Figure size 576x432 with 1 Axes>"
      ]
     },
     "metadata": {
      "needs_background": "light"
     },
     "output_type": "display_data"
    }
   ],
   "source": [
    "# 学習曲線の表示 (損失関数値)\n",
    "plt.figure(figsize=(8, 6))\n",
    "plt.plot(history1.history['val_loss'], label='SGD', lw=3, c='k')\n",
    "plt.plot(history2.history['val_loss'], label='rmsprop', lw=3, c='b')\n",
    "plt.plot(history3.history['val_loss'],\n",
    "         label='momentum', lw=3, c='k', linestyle='dashed')\n",
    "plt.ylim(0, 2)\n",
    "plt.xticks(size=14)\n",
    "plt.yticks(size=14)\n",
    "plt.grid(lw=2)\n",
    "plt.legend(fontsize=14)\n",
    "plt.show()"
   ]
  },
  {
   "cell_type": "code",
   "execution_count": 16,
   "metadata": {},
   "outputs": [
    {
     "data": {
      "image/png": "[encoded data removed]",
      "text/plain": [
       "<Figure size 576x432 with 1 Axes>"
      ]
     },
     "metadata": {
      "needs_background": "light"
     },
     "output_type": "display_data"
    }
   ],
   "source": [
    "# 学習曲線の表示 (精度)\n",
    "\n",
    "plt.figure(figsize=(8, 6))\n",
    "plt.plot(history1.history['val_accuracy'], label='SGD', lw=3, c='k')\n",
    "plt.plot(history2.history['val_accuracy'], label='rmsprop', lw=3, c='b')\n",
    "plt.plot(history3.history['val_accuracy'],\n",
    "         label='momentum', lw=3, c='k', linestyle='dashed')\n",
    "plt.ylim(0.8, 1)\n",
    "plt.xticks(size=14)\n",
    "plt.yticks(size=14)\n",
    "plt.grid(lw=2)\n",
    "plt.legend(fontsize=14)\n",
    "plt.show()\n"
   ]
  },
  {
   "cell_type": "markdown",
   "metadata": {},
   "source": [
    "## 11.6 過学習対策"
   ]
  },
  {
   "cell_type": "markdown",
   "metadata": {},
   "source": [
    "正則化"
   ]
  },
  {
   "cell_type": "code",
   "execution_count": 17,
   "metadata": {},
   "outputs": [],
   "source": [
    "# 正解データのデータ数\n",
    "div = 8\n",
    "\n",
    "# 近似多項式の次元\n",
    "dim = 8\n",
    "\n",
    "# y = -x*4 + x**3 -3x**2 + 8x -7\n",
    "p = [-1, 1, -3, 8, -7]\n",
    "\n",
    "# xの定義域 [-2, 1]\n",
    "xMin = -2\n",
    "xMax = 1"
   ]
  },
  {
   "cell_type": "markdown",
   "metadata": {},
   "source": [
    "$f(x) = -x^4 + x^3 - 3x^2 + 8x -7 + N(0, 5)$"
   ]
  },
  {
   "cell_type": "code",
   "execution_count": 18,
   "metadata": {},
   "outputs": [],
   "source": [
    "# x : xMin と xManの間をdiv個に分割したベクトル\n",
    "x = np.linspace(xMin, xMax, num=div)\n",
    "\n",
    "# xx : xを10倍細かい間隔で分割したベクトル\n",
    "xx = np.linspace(xMin, xMax, num=div*10)\n",
    "\n",
    "# y, yy: x, xxそれぞれのベクトルに対して多項式の値を計算したベクトル\n",
    "y = np.polyval(p, x)\n",
    "yy = np.polyval(p, xx)\n",
    "\n",
    "# z: yに正規分布のノイズを加える。これを正解データとする\n",
    "z = y + 5 * np.random.randn(div)"
   ]
  },
  {
   "cell_type": "code",
   "execution_count": 19,
   "metadata": {},
   "outputs": [],
   "source": [
    "# ベクトル表示用関数\n",
    "def print_fix(x):\n",
    "    [print('{:.3f}'.format(n)) for n in x]\n",
    "\n",
    "# モデルを引数として、多項式の係数を表示する関数\n",
    "def print_fix_model(m):\n",
    "    w = m.coef_.tolist()\n",
    "    w[0] = m.intercept_\n",
    "    print_fix(w)"
   ]
  },
  {
   "cell_type": "code",
   "execution_count": 20,
   "metadata": {},
   "outputs": [],
   "source": [
    "# 多項式行列を作成し、モデルの入力変数とする\n",
    "\n",
    "# x**nのベクトル計算用関数\n",
    "def f(x):\n",
    "    return [x**i for i in range(dim)]\n",
    "\n",
    "\n",
    "# X : xベクトルから多項式二次元配列を作ったもの\n",
    "X = [f(x0) for x0 in x]\n",
    "\n",
    "# XX : xxベクトル多項式二次元配列を作ったもの\n",
    "XX = [f(x0) for x0 in xx]"
   ]
  },
  {
   "cell_type": "code",
   "execution_count": 21,
   "metadata": {},
   "outputs": [],
   "source": [
    "# 線形モデルライブラリのロード\n",
    "from sklearn.linear_model import LinearRegression\n",
    "\n",
    "# モデルの初期化、学習\n",
    "model = LinearRegression().fit(X, z)\n",
    "\n",
    "# 予測値の取得\n",
    "yy_pred = model.predict(XX)"
   ]
  },
  {
   "cell_type": "code",
   "execution_count": 22,
   "metadata": {},
   "outputs": [],
   "source": [
    "# Ridgeモデルラブラリのロード\n",
    "from sklearn.linear_model import Ridge\n",
    "\n",
    "# モデルの生成、学習\n",
    "#model2 = Ridge(alpha=5).fit(X, z)\n",
    "model2 = Ridge(alpha=0.5).fit(X, z)"
   ]
  },
  {
   "cell_type": "code",
   "execution_count": 23,
   "metadata": {},
   "outputs": [],
   "source": [
    "# 予測値の取得\n",
    "yy_pred2 = model2.predict(XX)"
   ]
  },
  {
   "cell_type": "code",
   "execution_count": 24,
   "metadata": {},
   "outputs": [
    {
     "data": {
      "image/png": "[encoded data removed]",
      "text/plain": [
       "<Figure size 576x432 with 1 Axes>"
      ]
     },
     "metadata": {
      "needs_background": "light"
     },
     "output_type": "display_data"
    }
   ],
   "source": [
    "# グラフ表示\n",
    "plt.figure(figsize=(8, 6))\n",
    "plt.plot(xx, yy, label='polynomial', lw=1, c='k')\n",
    "plt.scatter(x, z, label='observed', s=50, c='k')\n",
    "plt.plot(xx, yy_pred, label='linear regression', lw=3, c='k')\n",
    "plt.plot(xx, yy_pred2, label='L2 regularizer', lw=3, c='b')\n",
    "plt.xlabel('X')\n",
    "plt.ylabel('Y')\n",
    "plt.xticks(size=14)\n",
    "plt.yticks(size=14)\n",
    "plt.grid(lw=2)\n",
    "plt.legend(fontsize=14)\n",
    "plt.show()"
   ]
  }
 ],
 "metadata": {
  "interpreter": {
   "hash": "18aa02ce14a85bb7f4615a92049f5200f59992eb58b8bc2715593121788c94f0"
  },
  "kernelspec": {
   "display_name": "Python 3.9.12 ('sap_env': venv)",
   "language": "python",
   "name": "python3"
  },
  "language_info": {
   "codemirror_mode": {
    "name": "ipython",
    "version": 3
   },
   "file_extension": ".py",
   "mimetype": "text/x-python",
   "name": "python",
   "nbconvert_exporter": "python",
   "pygments_lexer": "ipython3",
   "version": "3.9.13"
  },
  "orig_nbformat": 4
 },
 "nbformat": 4,
 "nbformat_minor": 2
}
